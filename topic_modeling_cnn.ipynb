{
  "nbformat": 4,
  "nbformat_minor": 0,
  "metadata": {
    "colab": {
      "name": "topic_modeling_cnn.ipynb",
      "provenance": []
    },
    "kernelspec": {
      "name": "python3",
      "display_name": "Python 3"
    }
  },
  "cells": [
    {
      "cell_type": "code",
      "metadata": {
        "id": "RVpzQugL34Zp",
        "colab_type": "code",
        "colab": {}
      },
      "source": [
        "from google.colab import drive\n",
        "drive.mount('/content/drive')"
      ],
      "execution_count": null,
      "outputs": []
    },
    {
      "cell_type": "code",
      "metadata": {
        "id": "ODYQ4igy7c-1",
        "colab_type": "code",
        "colab": {}
      },
      "source": [
        "df = pd.read_csv('/content/drive/My Drive/edited_topics_set2.csv')"
      ],
      "execution_count": 5,
      "outputs": []
    },
    {
      "cell_type": "code",
      "metadata": {
        "id": "TdBqUTiN34Vt",
        "colab_type": "code",
        "colab": {}
      },
      "source": [
        "from sklearn.feature_extraction.text import ENGLISH_STOP_WORDS\n",
        "import string\n",
        "import re\n",
        "from nltk.stem.snowball import SnowballStemmer\n",
        "from nltk.tokenize import TweetTokenizer, RegexpTokenizer\n",
        "import nltk\n",
        "\n",
        "# Contraction map\n",
        "c_dict = {\n",
        "    \"ain't\": \"am not\",\n",
        "    \"aren't\": \"are not\",\n",
        "    \"can't\": \"cannot\",\n",
        "    \"can't've\": \"cannot have\",\n",
        "    \"'cause\": \"because\",\n",
        "    \"could've\": \"could have\",\n",
        "    \"couldn't\": \"could not\",\n",
        "    \"couldn't've\": \"could not have\",\n",
        "    \"didn't\": \"did not\",\n",
        "    \"doesn't\": \"does not\",\n",
        "    \"don't\": \"do not\",\n",
        "    \"hadn't\": \"had not\",\n",
        "    \"hadn't've\": \"had not have\",\n",
        "    \"hasn't\": \"has not\",\n",
        "    \"haven't\": \"have not\",\n",
        "    \"he'd\": \"he would\",\n",
        "    \"he'd've\": \"he would have\",\n",
        "    \"he'll\": \"he will\",\n",
        "    \"he'll've\": \"he will have\",\n",
        "    \"he's\": \"he is\",\n",
        "    \"how'd\": \"how did\",\n",
        "    \"how'd'y\": \"how do you\",\n",
        "    \"how'll\": \"how will\",\n",
        "    \"how's\": \"how is\",\n",
        "    \"i'd\": \"I would\",\n",
        "    \"i'd've\": \"I would have\",\n",
        "    \"i'll\": \"I will\",\n",
        "    \"i'll've\": \"I will have\",\n",
        "    \"i'm\": \"I am\",\n",
        "    \"i've\": \"I have\",\n",
        "    \"isn't\": \"is not\",\n",
        "    \"it'd\": \"it had\",\n",
        "    \"it'd've\": \"it would have\",\n",
        "    \"it'll\": \"it will\",\n",
        "    \"it'll've\": \"it will have\",\n",
        "    \"it's\": \"it is\",\n",
        "    \"let's\": \"let us\",\n",
        "    \"ma'am\": \"madam\",\n",
        "    \"mayn't\": \"may not\",\n",
        "    \"might've\": \"might have\",\n",
        "    \"mightn't\": \"might not\",\n",
        "    \"mightn't've\": \"might not have\",\n",
        "    \"must've\": \"must have\",\n",
        "    \"mustn't\": \"must not\",\n",
        "    \"mustn't've\": \"must not have\",\n",
        "    \"needn't\": \"need not\",\n",
        "    \"needn't've\": \"need not have\",\n",
        "    \"o'clock\": \"of the clock\",\n",
        "    \"oughtn't\": \"ought not\",\n",
        "    \"oughtn't've\": \"ought not have\",\n",
        "    \"shan't\": \"shall not\",\n",
        "    \"sha'n't\": \"shall not\",\n",
        "    \"shan't've\": \"shall not have\",\n",
        "    \"she'd\": \"she would\",\n",
        "    \"she'd've\": \"she would have\",\n",
        "    \"she'll\": \"she will\",\n",
        "    \"she'll've\": \"she will have\",\n",
        "    \"she's\": \"she is\",\n",
        "    \"should've\": \"should have\",\n",
        "    \"shouldn't\": \"should not\",\n",
        "    \"shouldn't've\": \"should not have\",\n",
        "    \"so've\": \"so have\",\n",
        "    \"so's\": \"so is\",\n",
        "    \"that'd\": \"that would\",\n",
        "    \"that'd've\": \"that would have\",\n",
        "    \"that's\": \"that is\",\n",
        "    \"there'd\": \"there had\",\n",
        "    \"there'd've\": \"there would have\",\n",
        "    \"there's\": \"there is\",\n",
        "    \"they'd\": \"they would\",\n",
        "    \"they'd've\": \"they would have\",\n",
        "    \"they'll\": \"they will\",\n",
        "    \"they'll've\": \"they will have\",\n",
        "    \"they're\": \"they are\",\n",
        "    \"they've\": \"they have\",\n",
        "    \"to've\": \"to have\",\n",
        "    \"wasn't\": \"was not\",\n",
        "    \"we'd\": \"we had\",\n",
        "    \"we'd've\": \"we would have\",\n",
        "    \"we'll\": \"we will\",\n",
        "    \"we'll've\": \"we will have\",\n",
        "    \"we're\": \"we are\",\n",
        "    \"we've\": \"we have\",\n",
        "    \"weren't\": \"were not\",\n",
        "    \"what'll\": \"what will\",\n",
        "    \"what'll've\": \"what will have\",\n",
        "    \"what're\": \"what are\",\n",
        "    \"what's\": \"what is\",\n",
        "    \"what've\": \"what have\",\n",
        "    \"when's\": \"when is\",\n",
        "    \"when've\": \"when have\",\n",
        "    \"where'd\": \"where did\",\n",
        "    \"where's\": \"where is\",\n",
        "    \"where've\": \"where have\",\n",
        "    \"who'll\": \"who will\",\n",
        "    \"who'll've\": \"who will have\",\n",
        "    \"who's\": \"who is\",\n",
        "    \"who've\": \"who have\",\n",
        "    \"why's\": \"why is\",\n",
        "    \"why've\": \"why have\",\n",
        "    \"will've\": \"will have\",\n",
        "    \"won't\": \"will not\",\n",
        "    \"won't've\": \"will not have\",\n",
        "    \"would've\": \"would have\",\n",
        "    \"wouldn't\": \"would not\",\n",
        "    \"wouldn't've\": \"would not have\",\n",
        "    \"y'all\": \"you all\",\n",
        "    \"y'alls\": \"you alls\",\n",
        "    \"y'all'd\": \"you all would\",\n",
        "    \"y'all'd've\": \"you all would have\",\n",
        "    \"y'all're\": \"you all are\",\n",
        "    \"y'all've\": \"you all have\",\n",
        "    \"you'd\": \"you had\",\n",
        "    \"you'd've\": \"you would have\",\n",
        "    \"you'll\": \"you you will\",\n",
        "    \"you'll've\": \"you you will have\",\n",
        "    \"you're\": \"you are\",\n",
        "    \"you've\": \"you have\"\n",
        "}\n",
        "\n",
        "# Compiling the contraction dict\n",
        "c_re = re.compile('(%s)' % '|'.join(c_dict.keys()))\n",
        "\n",
        "# List of stop words\n",
        "add_stop = ['said', 'say', '...', 'like', 'cnn', 'ad']\n",
        "stop_words = ENGLISH_STOP_WORDS.union(add_stop)\n",
        "\n",
        "# List of punctuation\n",
        "punc = list(set(string.punctuation))\n",
        "\n",
        "\n",
        "# Splits words on white spaces (leaves contractions intact) and splits out\n",
        "# trailing punctuation\n",
        "def casual_tokenizer(text):\n",
        "    tokenizer = TweetTokenizer()\n",
        "    tokens = tokenizer.tokenize(text)\n",
        "    return tokens\n",
        "\n",
        "\n",
        "def expandContractions(text, c_re=c_re):\n",
        "    def replace(match):\n",
        "        return c_dict[match.group(0)]\n",
        "    return c_re.sub(replace, text)\n",
        "\n",
        "\n",
        "def process_text(text):\n",
        "    text = casual_tokenizer(text)\n",
        "    text = [each.lower() for each in text]\n",
        "    text = [re.sub('[0-9]+', '', each) for each in text]\n",
        "    text = [expandContractions(each, c_re=c_re) for each in text]\n",
        "    text = [SnowballStemmer('english').stem(each) for each in text]\n",
        "    text = [w for w in text if w not in punc]\n",
        "    text = [w for w in text if w not in stop_words]\n",
        "    text = [each for each in text if len(each) > 1]\n",
        "    text = [each for each in text if ' ' not in each]\n",
        "    return text\n",
        "\n",
        "\n",
        "def top_words(topic, n_top_words):\n",
        "    return topic.argsort()[:-n_top_words - 1:-1]  \n",
        "\n",
        "\n",
        "def topic_table(model, feature_names, n_top_words):\n",
        "    topics = {}\n",
        "    for topic_idx, topic in enumerate(model.components_):\n",
        "        t = (topic_idx)\n",
        "        topics[t] = [feature_names[i] for i in top_words(topic, n_top_words)]\n",
        "    return pd.DataFrame(topics)\n",
        "\n",
        "\n",
        "def whitespace_tokenizer(text): \n",
        "    pattern = r\"(?u)\\b\\w\\w+\\b\" \n",
        "    tokenizer_regex = RegexpTokenizer(pattern)\n",
        "    tokens = tokenizer_regex.tokenize(text)\n",
        "    return tokens\n",
        "\n",
        "\n",
        "# Funtion to remove duplicate words\n",
        "def unique_words(text): \n",
        "    ulist = []\n",
        "    [ulist.append(x) for x in text if x not in ulist]\n",
        "    return ulist\n",
        "\n",
        "\n",
        "def word_count(text):\n",
        "    return len(str(text).split(' '))"
      ],
      "execution_count": 2,
      "outputs": []
    },
    {
      "cell_type": "code",
      "metadata": {
        "id": "nq-ZMO7-3Dfh",
        "colab_type": "code",
        "colab": {}
      },
      "source": [
        "import pandas as pd\n",
        "import numpy as np\n",
        "from sklearn.feature_extraction.text import TfidfVectorizer\n",
        "from gensim.models.coherencemodel import CoherenceModel\n",
        "from gensim.corpora.dictionary import Dictionary\n",
        "from gensim.models.nmf import Nmf\n",
        "from sklearn.decomposition import NMF\n",
        "from collections import Counter\n",
        "from operator import itemgetter\n",
        "import matplotlib.pyplot as plt\n",
        "import seaborn as sns\n",
        "sns.set_style('darkgrid')\n"
      ],
      "execution_count": 27,
      "outputs": []
    },
    {
      "cell_type": "code",
      "metadata": {
        "id": "cio8HsMO3c63",
        "colab_type": "code",
        "colab": {
          "base_uri": "https://localhost:8080/",
          "height": 296
        },
        "outputId": "8366815b-4c6a-4811-e58a-bb7669c60778"
      },
      "source": [
        "# Process the text\n",
        "df['processed_text1'] = df['content'].apply(process_text)\n",
        "df.head()"
      ],
      "execution_count": 9,
      "outputs": [
        {
          "output_type": "execute_result",
          "data": {
            "text/html": [
              "<div>\n",
              "<style scoped>\n",
              "    .dataframe tbody tr th:only-of-type {\n",
              "        vertical-align: middle;\n",
              "    }\n",
              "\n",
              "    .dataframe tbody tr th {\n",
              "        vertical-align: top;\n",
              "    }\n",
              "\n",
              "    .dataframe thead th {\n",
              "        text-align: right;\n",
              "    }\n",
              "</style>\n",
              "<table border=\"1\" class=\"dataframe\">\n",
              "  <thead>\n",
              "    <tr style=\"text-align: right;\">\n",
              "      <th></th>\n",
              "      <th>Unnamed: 0</th>\n",
              "      <th>Unnamed: 0.1</th>\n",
              "      <th>_id</th>\n",
              "      <th>topic</th>\n",
              "      <th>content</th>\n",
              "      <th>processed_content</th>\n",
              "      <th>processed_topic</th>\n",
              "      <th>word_count</th>\n",
              "      <th>processed_text1</th>\n",
              "    </tr>\n",
              "  </thead>\n",
              "  <tbody>\n",
              "    <tr>\n",
              "      <th>0</th>\n",
              "      <td>0</td>\n",
              "      <td>0</td>\n",
              "      <td>5f04e496ef217aae6a201f71</td>\n",
              "      <td>[\"National\"]</td>\n",
              "      <td>[\"The West Bengal government on Tuesday decide...</td>\n",
              "      <td>west bengal govern tuesday decid impos complet...</td>\n",
              "      <td>nation</td>\n",
              "      <td>215</td>\n",
              "      <td>[west, bengal, govern, tuesday, decid, impos, ...</td>\n",
              "    </tr>\n",
              "    <tr>\n",
              "      <th>1</th>\n",
              "      <td>1</td>\n",
              "      <td>1</td>\n",
              "      <td>5f04e498ef217aae6a201f72</td>\n",
              "      <td>[\"Business\"]</td>\n",
              "      <td>[\"The government is weighing the pros and cons...</td>\n",
              "      <td>govern weigh pros con halt import includ china...</td>\n",
              "      <td>busi</td>\n",
              "      <td>140</td>\n",
              "      <td>[govern, weigh, pros, halt, import, includ, ch...</td>\n",
              "    </tr>\n",
              "    <tr>\n",
              "      <th>2</th>\n",
              "      <td>2</td>\n",
              "      <td>2</td>\n",
              "      <td>5f04e49aef217aae6a201f73</td>\n",
              "      <td>[\"National\"]</td>\n",
              "      <td>[\"The Central Board of Secondary Education (CB...</td>\n",
              "      <td>central board secondari educ cbse slash syllab...</td>\n",
              "      <td>nation</td>\n",
              "      <td>143</td>\n",
              "      <td>[central, board, secondari, educ, cbse, slash,...</td>\n",
              "    </tr>\n",
              "    <tr>\n",
              "      <th>3</th>\n",
              "      <td>3</td>\n",
              "      <td>3</td>\n",
              "      <td>5f04e49def217aae6a201f74</td>\n",
              "      <td>[\"International\"]</td>\n",
              "      <td>[\"The World Health Organization on Tuesday ack...</td>\n",
              "      <td>world health organ tuesday acknowledg emerg ev...</td>\n",
              "      <td>intern</td>\n",
              "      <td>35</td>\n",
              "      <td>[world, health, organ, tuesday, acknowledg, em...</td>\n",
              "    </tr>\n",
              "    <tr>\n",
              "      <th>4</th>\n",
              "      <td>4</td>\n",
              "      <td>4</td>\n",
              "      <td>5f04e49fef217aae6a201f75</td>\n",
              "      <td>[\"International\"]</td>\n",
              "      <td>[\"President Donald Trump on Tuesday formally s...</td>\n",
              "      <td>presid donald trump tuesday formal start withd...</td>\n",
              "      <td>intern</td>\n",
              "      <td>320</td>\n",
              "      <td>[presid, donald, trump, tuesday, formal, start...</td>\n",
              "    </tr>\n",
              "  </tbody>\n",
              "</table>\n",
              "</div>"
            ],
            "text/plain": [
              "   Unnamed: 0  ...                                    processed_text1\n",
              "0           0  ...  [west, bengal, govern, tuesday, decid, impos, ...\n",
              "1           1  ...  [govern, weigh, pros, halt, import, includ, ch...\n",
              "2           2  ...  [central, board, secondari, educ, cbse, slash,...\n",
              "3           3  ...  [world, health, organ, tuesday, acknowledg, em...\n",
              "4           4  ...  [presid, donald, trump, tuesday, formal, start...\n",
              "\n",
              "[5 rows x 9 columns]"
            ]
          },
          "metadata": {
            "tags": []
          },
          "execution_count": 9
        }
      ]
    },
    {
      "cell_type": "code",
      "metadata": {
        "id": "PTVtXXzL8_OT",
        "colab_type": "code",
        "colab": {}
      },
      "source": [
        ""
      ],
      "execution_count": null,
      "outputs": []
    },
    {
      "cell_type": "code",
      "metadata": {
        "id": "8O7Y9w5A8_LR",
        "colab_type": "code",
        "colab": {}
      },
      "source": [
        ""
      ],
      "execution_count": null,
      "outputs": []
    },
    {
      "cell_type": "code",
      "metadata": {
        "id": "fJs4MLa63c-N",
        "colab_type": "code",
        "colab": {
          "base_uri": "https://localhost:8080/",
          "height": 34
        },
        "outputId": "38873476-4917-4626-d683-a343a0c56556"
      },
      "source": [
        "# Get the word count\n",
        "df['word_count'] = df['processed_text1'].apply(word_count)\n",
        "df['word_count'].mean()"
      ],
      "execution_count": 18,
      "outputs": [
        {
          "output_type": "execute_result",
          "data": {
            "text/plain": [
              "259.6046403712297"
            ]
          },
          "metadata": {
            "tags": []
          },
          "execution_count": 18
        }
      ]
    },
    {
      "cell_type": "code",
      "metadata": {
        "id": "cLkSbALj3c5C",
        "colab_type": "code",
        "colab": {
          "base_uri": "https://localhost:8080/",
          "height": 168
        },
        "outputId": "d6bcb160-8063-4621-fa78-e790d04dbfc2"
      },
      "source": [
        "# Descriptive statistics for word count\n",
        "df['word_count'].describe()"
      ],
      "execution_count": 19,
      "outputs": [
        {
          "output_type": "execute_result",
          "data": {
            "text/plain": [
              "count    2155.000000\n",
              "mean      259.604640\n",
              "std       190.470211\n",
              "min        14.000000\n",
              "25%       145.500000\n",
              "50%       213.000000\n",
              "75%       326.000000\n",
              "max      2156.000000\n",
              "Name: word_count, dtype: float64"
            ]
          },
          "metadata": {
            "tags": []
          },
          "execution_count": 19
        }
      ]
    },
    {
      "cell_type": "code",
      "metadata": {
        "id": "nnF98JBh8P8d",
        "colab_type": "code",
        "colab": {}
      },
      "source": [
        ""
      ],
      "execution_count": null,
      "outputs": []
    },
    {
      "cell_type": "code",
      "metadata": {
        "id": "KcfRIUUj3c1s",
        "colab_type": "code",
        "colab": {
          "base_uri": "https://localhost:8080/",
          "height": 355
        },
        "outputId": "88f1c82c-32f7-460f-9baf-dea176d4697d"
      },
      "source": [
        "# Plot a hist of the word counts\n",
        "fig = plt.figure(figsize=(10,5))\n",
        "\n",
        "plt.hist(\n",
        "    df['word_count'],\n",
        "    bins=20,\n",
        "    color='#60505C'\n",
        ")\n",
        "\n",
        "plt.title('Distribution - Article Word Count', fontsize=16)\n",
        "plt.ylabel('Frequency', fontsize=12)\n",
        "plt.xlabel('Word Count', fontsize=12)\n",
        "plt.yticks(np.arange(0, 50, 5))\n",
        "plt.xticks(np.arange(0, 2700, 200))\n",
        "\n",
        "file_name = 'hist'\n",
        "\n",
        "\n",
        "\n",
        "plt.show()"
      ],
      "execution_count": 20,
      "outputs": [
        {
          "output_type": "display_data",
          "data": {
            "image/png": "[encoded data removed]",
            "text/plain": [
              "<Figure size 720x360 with 1 Axes>"
            ]
          },
          "metadata": {
            "tags": []
          }
        }
      ]
    },
    {
      "cell_type": "code",
      "metadata": {
        "id": "D8W7gGXK3c0x",
        "colab_type": "code",
        "colab": {
          "base_uri": "https://localhost:8080/",
          "height": 538
        },
        "outputId": "6ea12046-0b32-4d7b-9b11-d952e3a0a3a9"
      },
      "source": [
        "# Plot a boxplot of the word counts\n",
        "fig = plt.figure(figsize=(4,9))\n",
        "\n",
        "sns.boxplot(\n",
        "    df['word_count'],\n",
        "    orient='v',\n",
        "    width=.5,\n",
        "    color='#ff8080'\n",
        ")\n",
        "\n",
        "plt.ylabel(\"Word Count\", fontsize=12)\n",
        "plt.title('Distribution - Article Word Count', fontsize=16)\n",
        "plt.yticks(np.arange(0, 2700, 100))\n",
        "\n",
        "file_name = 'box_plot'\n",
        "\n",
        "plt.show()\n"
      ],
      "execution_count": 21,
      "outputs": [
        {
          "output_type": "display_data",
          "data": {
            "image/png": "[encoded data removed]",
            "text/plain": [
              "<Figure size 288x648 with 1 Axes>"
            ]
          },
          "metadata": {
            "tags": []
          }
        }
      ]
    },
    {
      "cell_type": "code",
      "metadata": {
        "id": "1xDe2QaE3cxw",
        "colab_type": "code",
        "colab": {
          "base_uri": "https://localhost:8080/",
          "height": 639
        },
        "outputId": "1b77ffee-8633-4c42-97e0-320bd18387ad"
      },
      "source": [
        "# Get the top 20 most common words among all the articles\n",
        "p_text = df['processed_text1']\n",
        "\n",
        "# Flaten the list of lists\n",
        "p_text = [item for sublist in p_text for item in sublist]\n",
        "\n",
        "# Top 20\n",
        "top_20 = pd.DataFrame(\n",
        "    Counter(p_text).most_common(20),\n",
        "    columns=['word', 'frequency']\n",
        ")\n",
        "\n",
        "top_20"
      ],
      "execution_count": 17,
      "outputs": [
        {
          "output_type": "execute_result",
          "data": {
            "text/html": [
              "<div>\n",
              "<style scoped>\n",
              "    .dataframe tbody tr th:only-of-type {\n",
              "        vertical-align: middle;\n",
              "    }\n",
              "\n",
              "    .dataframe tbody tr th {\n",
              "        vertical-align: top;\n",
              "    }\n",
              "\n",
              "    .dataframe thead th {\n",
              "        text-align: right;\n",
              "    }\n",
              "</style>\n",
              "<table border=\"1\" class=\"dataframe\">\n",
              "  <thead>\n",
              "    <tr style=\"text-align: right;\">\n",
              "      <th></th>\n",
              "      <th>word</th>\n",
              "      <th>frequency</th>\n",
              "    </tr>\n",
              "  </thead>\n",
              "  <tbody>\n",
              "    <tr>\n",
              "      <th>0</th>\n",
              "      <td>india</td>\n",
              "      <td>2752</td>\n",
              "    </tr>\n",
              "    <tr>\n",
              "      <th>1</th>\n",
              "      <td>state</td>\n",
              "      <td>2403</td>\n",
              "    </tr>\n",
              "    <tr>\n",
              "      <th>2</th>\n",
              "      <td>peopl</td>\n",
              "      <td>2381</td>\n",
              "    </tr>\n",
              "    <tr>\n",
              "      <th>3</th>\n",
              "      <td>covid</td>\n",
              "      <td>2338</td>\n",
              "    </tr>\n",
              "    <tr>\n",
              "      <th>4</th>\n",
              "      <td>govern</td>\n",
              "      <td>2306</td>\n",
              "    </tr>\n",
              "    <tr>\n",
              "      <th>5</th>\n",
              "      <td>case</td>\n",
              "      <td>2204</td>\n",
              "    </tr>\n",
              "    <tr>\n",
              "      <th>6</th>\n",
              "      <td>time</td>\n",
              "      <td>2196</td>\n",
              "    </tr>\n",
              "    <tr>\n",
              "      <th>7</th>\n",
              "      <td>year</td>\n",
              "      <td>2103</td>\n",
              "    </tr>\n",
              "    <tr>\n",
              "      <th>8</th>\n",
              "      <td>new</td>\n",
              "      <td>1728</td>\n",
              "    </tr>\n",
              "    <tr>\n",
              "      <th>9</th>\n",
              "      <td>day</td>\n",
              "      <td>1652</td>\n",
              "    </tr>\n",
              "    <tr>\n",
              "      <th>10</th>\n",
              "      <td>indian</td>\n",
              "      <td>1620</td>\n",
              "    </tr>\n",
              "    <tr>\n",
              "      <th>11</th>\n",
              "      <td>test</td>\n",
              "      <td>1568</td>\n",
              "    </tr>\n",
              "    <tr>\n",
              "      <th>12</th>\n",
              "      <td>use</td>\n",
              "      <td>1506</td>\n",
              "    </tr>\n",
              "    <tr>\n",
              "      <th>13</th>\n",
              "      <td>work</td>\n",
              "      <td>1449</td>\n",
              "    </tr>\n",
              "    <tr>\n",
              "      <th>14</th>\n",
              "      <td>countri</td>\n",
              "      <td>1438</td>\n",
              "    </tr>\n",
              "    <tr>\n",
              "      <th>15</th>\n",
              "      <td>minist</td>\n",
              "      <td>1426</td>\n",
              "    </tr>\n",
              "    <tr>\n",
              "      <th>16</th>\n",
              "      <td>polic</td>\n",
              "      <td>1389</td>\n",
              "    </tr>\n",
              "    <tr>\n",
              "      <th>17</th>\n",
              "      <td>report</td>\n",
              "      <td>1373</td>\n",
              "    </tr>\n",
              "    <tr>\n",
              "      <th>18</th>\n",
              "      <td>china</td>\n",
              "      <td>1365</td>\n",
              "    </tr>\n",
              "    <tr>\n",
              "      <th>19</th>\n",
              "      <td>mani</td>\n",
              "      <td>1332</td>\n",
              "    </tr>\n",
              "  </tbody>\n",
              "</table>\n",
              "</div>"
            ],
            "text/plain": [
              "       word  frequency\n",
              "0     india       2752\n",
              "1     state       2403\n",
              "2     peopl       2381\n",
              "3     covid       2338\n",
              "4    govern       2306\n",
              "5      case       2204\n",
              "6      time       2196\n",
              "7      year       2103\n",
              "8       new       1728\n",
              "9       day       1652\n",
              "10   indian       1620\n",
              "11     test       1568\n",
              "12      use       1506\n",
              "13     work       1449\n",
              "14  countri       1438\n",
              "15   minist       1426\n",
              "16    polic       1389\n",
              "17   report       1373\n",
              "18    china       1365\n",
              "19     mani       1332"
            ]
          },
          "metadata": {
            "tags": []
          },
          "execution_count": 17
        }
      ]
    },
    {
      "cell_type": "code",
      "metadata": {
        "id": "PyqaUt1H3cwB",
        "colab_type": "code",
        "colab": {
          "base_uri": "https://localhost:8080/",
          "height": 501
        },
        "outputId": "2eb469ce-3399-41e8-a0d2-50547b14039e"
      },
      "source": [
        "# Plot a bar chart for the top 20 most frequently occuring words\n",
        "fig = plt.figure(figsize=(20,7))\n",
        "\n",
        "g = sns.barplot(\n",
        "    x='word',\n",
        "    y='frequency',\n",
        "    data=top_20,\n",
        "    palette='GnBu_d'\n",
        ")\n",
        "\n",
        "g.set_xticklabels(\n",
        "    g.get_xticklabels(),\n",
        "    rotation=45,\n",
        "    fontsize=14\n",
        ")\n",
        "\n",
        "plt.yticks(fontsize=14)\n",
        "plt.xlabel('Words', fontsize=14)\n",
        "plt.ylabel('Frequency', fontsize=14)\n",
        "plt.title('Top 20 Words', fontsize=17)\n",
        "\n",
        "file_name = 'top_words'\n",
        "\n",
        "# fig.savefig(\n",
        "#     file_path + file_name + '.png',\n",
        "#     dpi=fig.dpi,\n",
        "#     bbox_inches='tight'\n",
        "# )\n",
        "\n",
        "plt.show()"
      ],
      "execution_count": 22,
      "outputs": [
        {
          "output_type": "display_data",
          "data": {
            "image/png": "[encoded data removed]",
            "text/plain": [
              "<Figure size 1440x504 with 1 Axes>"
            ]
          },
          "metadata": {
            "tags": []
          }
        }
      ]
    },
    {
      "cell_type": "code",
      "metadata": {
        "id": "FkO9eSLP3cs8",
        "colab_type": "code",
        "colab": {
          "base_uri": "https://localhost:8080/",
          "height": 34
        },
        "outputId": "534072d9-e8ed-40d1-947b-5babbcbf9aa0"
      },
      "source": [
        "# Get the number of unique words after processing\n",
        "num_unique_words = len(set(p_text))\n",
        "num_unique_words"
      ],
      "execution_count": 23,
      "outputs": [
        {
          "output_type": "execute_result",
          "data": {
            "text/plain": [
              "28753"
            ]
          },
          "metadata": {
            "tags": []
          },
          "execution_count": 23
        }
      ]
    },
    {
      "cell_type": "code",
      "metadata": {
        "id": "5VW5RKU85FVW",
        "colab_type": "code",
        "colab": {
          "base_uri": "https://localhost:8080/",
          "height": 229
        },
        "outputId": "6d2fb8f0-27e3-4f83-e281-33a715d47bd2"
      },
      "source": [
        "# Use Gensim's NMF to get the best num of topics via coherence score\n",
        "texts = df['processed_text1']\n",
        "\n",
        "# Create a dictionary\n",
        "# In gensim a dictionary is a mapping between words and their integer id\n",
        "dictionary = Dictionary(texts)\n",
        "\n",
        "# Filter out extremes to limit the number of features\n",
        "dictionary.filter_extremes(\n",
        "    no_below=3,\n",
        "    no_above=0.85,\n",
        "    keep_n=5000\n",
        ")\n",
        "\n",
        "# Create the bag-of-words format (list of (token_id, token_count))\n",
        "corpus = [dictionary.doc2bow(text) for text in texts]\n",
        "\n",
        "# Create a list of the topic numbers we want to try\n",
        "topic_nums = list(np.arange(5, 75 + 1, 5))\n",
        "\n",
        "# Run the nmf model and calculate the coherence score\n",
        "# for each number of topics\n",
        "coherence_scores = []\n",
        "\n",
        "for num in topic_nums:\n",
        "    nmf = NMF(\n",
        "        corpus=corpus,\n",
        "        num_topics=num,\n",
        "        id2word=dictionary,\n",
        "        chunksize=2000,\n",
        "        passes=5,\n",
        "        kappa=.1,\n",
        "        minimum_probability=0.01,\n",
        "        w_max_iter=300,\n",
        "        w_stop_condition=0.0001,\n",
        "        h_max_iter=100,\n",
        "        h_stop_condition=0.001,\n",
        "        eval_every=10,\n",
        "        normalize=True,\n",
        "        random_state=42\n",
        "    )\n",
        "    \n",
        "    # Run the coherence model to get the score\n",
        "    cm = CoherenceModel(\n",
        "        model=nmf,\n",
        "        texts=texts,\n",
        "        dictionary=dictionary,\n",
        "        coherence='c_v'\n",
        "    )\n",
        "    \n",
        "    coherence_scores.append(round(cm.get_coherence(), 5))\n",
        "\n",
        "# Get the number of topics with the highest coherence score\n",
        "scores = list(zip(topic_nums, coherence_scores))\n",
        "best_num_topics = sorted(scores, key=itemgetter(1), reverse=True)[0][0]\n",
        "\n",
        "# Plot the results\n",
        "fig = plt.figure(figsize=(15, 7))\n",
        "\n",
        "plt.plot(\n",
        "    topic_nums,\n",
        "    coherence_scores,\n",
        "    linewidth=3,\n",
        "    color='#4287f5'\n",
        ")\n",
        "\n",
        "plt.xlabel(\"Topic Num\", fontsize=14)\n",
        "plt.ylabel(\"Coherence Score\", fontsize=14)\n",
        "plt.title('Coherence Score by Topic Number - Best Number of Topics: {}'.format(best_num_topics), fontsize=18)\n",
        "plt.xticks(np.arange(5, max(topic_nums) + 1, 5), fontsize=12)\n",
        "plt.yticks(fontsize=12)\n",
        "\n",
        "file_name = 'c_score'\n",
        "\n",
        "# fig.savefig(\n",
        "#     file_path + file_name + '.png',\n",
        "#     dpi=fig.dpi,\n",
        "#     bbox_inches='tight'\n",
        "# )\n",
        "\n",
        "plt.show()\n"
      ],
      "execution_count": 28,
      "outputs": [
        {
          "output_type": "error",
          "ename": "TypeError",
          "evalue": "ignored",
          "traceback": [
            "\u001b[0;31m---------------------------------------------------------------------------\u001b[0m",
            "\u001b[0;31mTypeError\u001b[0m                                 Traceback (most recent call last)",
            "\u001b[0;32m<ipython-input-28-fa0d4013fc8e>\u001b[0m in \u001b[0;36m<module>\u001b[0;34m()\u001b[0m\n\u001b[1;32m     38\u001b[0m         \u001b[0meval_every\u001b[0m\u001b[0;34m=\u001b[0m\u001b[0;36m10\u001b[0m\u001b[0;34m,\u001b[0m\u001b[0;34m\u001b[0m\u001b[0;34m\u001b[0m\u001b[0m\n\u001b[1;32m     39\u001b[0m         \u001b[0mnormalize\u001b[0m\u001b[0;34m=\u001b[0m\u001b[0;32mTrue\u001b[0m\u001b[0;34m,\u001b[0m\u001b[0;34m\u001b[0m\u001b[0;34m\u001b[0m\u001b[0m\n\u001b[0;32m---> 40\u001b[0;31m         \u001b[0mrandom_state\u001b[0m\u001b[0;34m=\u001b[0m\u001b[0;36m42\u001b[0m\u001b[0;34m\u001b[0m\u001b[0;34m\u001b[0m\u001b[0m\n\u001b[0m\u001b[1;32m     41\u001b[0m     )\n\u001b[1;32m     42\u001b[0m \u001b[0;34m\u001b[0m\u001b[0m\n",
            "\u001b[0;31mTypeError\u001b[0m: __init__() got an unexpected keyword argument 'corpus'"
          ]
        }
      ]
    },
    {
      "cell_type": "code",
      "metadata": {
        "id": "pGdn_SdF5FZT",
        "colab_type": "code",
        "colab": {}
      },
      "source": [
        "# Now use the number of topics with the \n",
        "# highest coherence score to run the \n",
        "# sklearn nmf model\n",
        "\n",
        "texts = df['processed_text']\n",
        "\n",
        "# Create the tfidf weights\n",
        "tfidf_vectorizer = TfidfVectorizer(\n",
        "    min_df=3,\n",
        "    max_df=0.85,\n",
        "    max_features=5000,\n",
        "    ngram_range=(1, 2),\n",
        "    preprocessor=' '.join\n",
        ")\n",
        "\n",
        "tfidf = tfidf_vectorizer.fit_transform(texts)\n",
        "\n",
        "# Save the feature names for later to create topic summaries\n",
        "tfidf_fn = tfidf_vectorizer.get_feature_names()\n",
        "\n",
        "# Run the nmf model\n",
        "nmf = NMF(\n",
        "    n_components=best_num_topics,\n",
        "    init='nndsvd',\n",
        "    max_iter=500,\n",
        "    l1_ratio=0.0,\n",
        "    solver='cd',\n",
        "    alpha=0.0,\n",
        "    tol=1e-4,\n",
        "    random_state=42\n",
        ").fit(tfidf)"
      ],
      "execution_count": null,
      "outputs": []
    },
    {
      "cell_type": "code",
      "metadata": {
        "id": "YbOnDCny5FTv",
        "colab_type": "code",
        "colab": {}
      },
      "source": [
        "# Use the top words for each cluster by tfidf weight\n",
        "# to create 'topics'\n",
        "\n",
        "# Getting a df with each topic by document\n",
        "docweights = nmf.transform(tfidf_vectorizer.transform(texts))\n",
        "\n",
        "n_top_words = 8\n",
        "\n",
        "topic_df = topic_table(\n",
        "    nmf,\n",
        "    tfidf_fn,\n",
        "    n_top_words\n",
        ").T\n",
        "\n",
        "# Cleaning up the top words to create topic summaries\n",
        "topic_df['topics'] = topic_df.apply(lambda x: [' '.join(x)], axis=1) # Joining each word into a list\n",
        "topic_df['topics'] = topic_df['topics'].str[0]  # Removing the list brackets\n",
        "topic_df['topics'] = topic_df['topics'].apply(lambda x: whitespace_tokenizer(x)) # tokenize\n",
        "topic_df['topics'] = topic_df['topics'].apply(lambda x: unique_words(x))  # Removing duplicate words\n",
        "topic_df['topics'] = topic_df['topics'].apply(lambda x: [' '.join(x)])  # Joining each word into a list\n",
        "topic_df['topics'] = topic_df['topics'].str[0]  # Removing the list brackets\n",
        "\n",
        "topic_df.head()"
      ],
      "execution_count": null,
      "outputs": []
    },
    {
      "cell_type": "code",
      "metadata": {
        "id": "IGnpsnGe5SQs",
        "colab_type": "code",
        "colab": {}
      },
      "source": [
        "# Create a df with only the created topics and topic num\n",
        "topic_df = topic_df['topics'].reset_index()\n",
        "topic_df.columns = ['topic_num', 'topics']\n",
        "\n",
        "topic_df.head()"
      ],
      "execution_count": null,
      "outputs": []
    },
    {
      "cell_type": "code",
      "metadata": {
        "id": "aheHLtmm5SUd",
        "colab_type": "code",
        "colab": {}
      },
      "source": [
        "# Creating a temp df with the url and topic num to join on\n",
        "url = df['url'].tolist()\n",
        "\n",
        "df_temp = pd.DataFrame({\n",
        "    'url': url,\n",
        "    'topic_num': docweights.argmax(axis=1)\n",
        "})\n",
        "\n",
        "# Merging to get the topic num with url\n",
        "merged_topic = df_temp.merge(\n",
        "    topic_df,\n",
        "    on='topic_num',\n",
        "    how='left'\n",
        ")\n",
        "\n",
        "# Merging with the original df\n",
        "df_topics = pd.merge(\n",
        "    df,\n",
        "    merged_topic,\n",
        "    on='url',\n",
        "    how='left'\n",
        ")\n",
        "\n",
        "df_topics = df_topics.drop(\n",
        "    'processed_text',\n",
        "    axis=1\n",
        ")\n",
        "\n",
        "df_topics.head()"
      ],
      "execution_count": null,
      "outputs": []
    },
    {
      "cell_type": "code",
      "metadata": {
        "id": "DA71INED5SPO",
        "colab_type": "code",
        "colab": {}
      },
      "source": [
        "# Showing the 3 matrices we get witn nmf\n",
        "A = tfidf_vectorizer.transform(texts)\n",
        "W = nmf.components_\n",
        "H = nmf.transform(A)\n",
        "\n",
        "print('A = {} x {}'.format(A.shape[0], A.shape[1]))\n",
        "print('W = {} x {}'.format(W.shape[0], W.shape[1]))\n",
        "print('H = {} x {}'.format(H.shape[0], H.shape[1]))"
      ],
      "execution_count": null,
      "outputs": []
    },
    {
      "cell_type": "code",
      "metadata": {
        "id": "zFK4dopK5bfz",
        "colab_type": "code",
        "colab": {}
      },
      "source": [
        "# Get the residuals for each document\n",
        "r = np.zeros(A.shape[0])\n",
        "\n",
        "for row in range(A.shape[0]):\n",
        "    r[row] = np.linalg.norm(A[row, :] - H[row, :].dot(W), 'fro')\n",
        "\n",
        "sum_sqrt_res = round(sum(np.sqrt(r)), 3)\n",
        "'Sum of the squared residuals is {}'.format(sum_sqrt_res)"
      ],
      "execution_count": null,
      "outputs": []
    },
    {
      "cell_type": "code",
      "metadata": {
        "id": "XJlf39sz5bcH",
        "colab_type": "code",
        "colab": {}
      },
      "source": [
        "# Add the residuals to the df\n",
        "df_topics['resid'] = r\n",
        "\n",
        "# Get the avg residual by topic\n",
        "resid_data = df_topics[[\n",
        "    'topic_num',\n",
        "    'resid'\n",
        "]].groupby('topic_num').mean().sort_values(by='resid')\n",
        "\n",
        "# Plot a bar chart for the avg. residuls by topic\n",
        "fig = plt.figure(figsize=(20,7))\n",
        "\n",
        "x = resid_data.index\n",
        "y = resid_data['resid']\n",
        "    \n",
        "g = sns.barplot(\n",
        "    x=x,\n",
        "    y=y,\n",
        "    order=x,\n",
        "    palette='rocket'\n",
        ")\n",
        "\n",
        "g.set_xticklabels(\n",
        "    g.get_xticklabels(),\n",
        "    fontsize=14\n",
        ")\n",
        "\n",
        "plt.yticks(fontsize=14)\n",
        "plt.xlabel('Topic Number', fontsize=14)\n",
        "plt.ylabel('Residual', fontsize=14)\n",
        "plt.title('Avg. Residuals by Topic Number', fontsize=17)\n",
        "\n",
        "file_name = 'avg_resid'\n",
        "\n",
        "fig.savefig(\n",
        "    file_path + file_name + '.png',\n",
        "    dpi=fig.dpi,\n",
        "    bbox_inches='tight'\n",
        ")\n",
        "\n",
        "plt.show()"
      ],
      "execution_count": null,
      "outputs": []
    },
    {
      "cell_type": "code",
      "metadata": {
        "id": "IUy2YUJB5ipa",
        "colab_type": "code",
        "colab": {}
      },
      "source": [
        "# Predicting the topic for an unseen article\n",
        "\n",
        "# Load the unseen articles for prediction\n",
        "file_name = 'unseen_cnn_articles.csv'\n",
        "\n",
        "df_new = pd.read_csv(file_path + file_name)\n",
        "\n",
        "# Process the text\n",
        "df_new['processed_text'] = df_new['body'].apply(process_text)\n",
        "\n",
        "new_texts = df_new['processed_text']\n",
        "\n",
        "# Transform the new data with the fitted models\n",
        "tfidf_new = tfidf_vectorizer.transform(new_texts)\n",
        "X_new = nmf.transform(tfidf_new)\n",
        "\n",
        "# Get the top predicted topic\n",
        "predicted_topics = [np.argsort(each)[::-1][0] for each in X_new]\n",
        "\n",
        "# Add to the df\n",
        "df_new['pred_topic_num'] = predicted_topics\n",
        "\n",
        "df_new"
      ],
      "execution_count": null,
      "outputs": []
    },
    {
      "cell_type": "code",
      "metadata": {
        "id": "rs4W65285inp",
        "colab_type": "code",
        "colab": {}
      },
      "source": [
        "# Join with the original df to get the topic summary\n",
        "df_new = pd.merge(\n",
        "    df_new.drop('processed_text', axis=1),\n",
        "    df_topics[['topic_num', 'topics']],\n",
        "    left_on='pred_topic_num',\n",
        "    right_on='topic_num',\n",
        "    how='inner' \n",
        ").drop_duplicates().drop(['topic_num', 'url', 'date'], axis=1)\n",
        "\n",
        "df_new"
      ],
      "execution_count": null,
      "outputs": []
    },
    {
      "cell_type": "code",
      "metadata": {
        "id": "Zfv8b0l03crU",
        "colab_type": "code",
        "colab": {}
      },
      "source": [
        ""
      ],
      "execution_count": null,
      "outputs": []
    }
  ]
}