{
  "nbformat": 4,
  "nbformat_minor": 0,
  "metadata": {
    "colab": {
      "name": "Simple Information Retrieval using TF-IDF and LSA.ipynb",
      "provenance": [],
      "collapsed_sections": []
    },
    "kernelspec": {
      "name": "python3",
      "display_name": "Python 3"
    }
  },
  "cells": [
    {
      "cell_type": "markdown",
      "metadata": {
        "id": "rS6zdVfmfJ6F",
        "colab_type": "text"
      },
      "source": [
        "Table of Content \n",
        "Global Variables\n",
        "1. Data Preprocessing\n",
        "\n",
        "  1.1 Importing Data and Separating Data of Our Interest\n",
        "\n",
        "  1.2 Creating Preprocessing Function and Applying it on Our Data\n",
        "\n",
        "  1.3 Creating TF-IDF Matrix\n",
        "\n",
        "2. Apply SVD to TF-IDF Matrix\n",
        "\n",
        "  2.1 Create Term and Document Representation\n",
        "\n",
        "  2.2 Visulize Those Representation\n",
        "\n",
        "3 Information Retreival Using LSA\n",
        "\n",
        "4 References"
      ]
    },
    {
      "cell_type": "code",
      "metadata": {
        "id": "K2W5Vq4UeSVE",
        "colab_type": "code",
        "colab": {}
      },
      "source": [
        "from google.colab import drive\n",
        "drive.mount('/content/drive')"
      ],
      "execution_count": null,
      "outputs": []
    },
    {
      "cell_type": "markdown",
      "metadata": {
        "id": "k-GHlkB_fj4A",
        "colab_type": "text"
      },
      "source": [
        "Data Preprocessing \n",
        "\n",
        "1.1 Importing Data and Separating Data of Our Interest \n"
      ]
    },
    {
      "cell_type": "code",
      "metadata": {
        "id": "jOlOElyWfk2r",
        "colab_type": "code",
        "colab": {
          "base_uri": "https://localhost:8080/",
          "height": 212
        },
        "outputId": "82cb6efe-4c7e-47ac-f1ae-e97c0df0ee52"
      },
      "source": [
        "import pandas as pd\n",
        "import numpy as np\n",
        "\n",
        "# Data filename\n",
        "dataset_filename = \"/content/drive/My Drive/edited_topics_set2.csv\"\n",
        "\n",
        "# Loading dataset\n",
        "data = pd.read_csv(dataset_filename, index_col=0)\n",
        "\n",
        "# We are reducing the size of our dataset to decrease the running time of code\n",
        "datax = data.head(100)\n",
        "\n",
        "\n",
        "# # Delete missing observations for variables that we will be working with\n",
        "# for x in [\"Recommended IND\",\"Review Text\"]:\n",
        "#     datax = datax[datax[x].notnull()]\n",
        "\n",
        "# # Keeping only those features that we will explore\n",
        "# datax = datax[[\"Recommended IND\",\"Review Text\"]]\n",
        "\n",
        "# Resetting the index\n",
        "datax.index = pd.Series(list(range(datax.shape[0])))\n",
        "    \n",
        "print('Shape : ',datax.shape)\n",
        "datax.head()"
      ],
      "execution_count": 1,
      "outputs": [
        {
          "output_type": "stream",
          "text": [
            "Shape :  (100, 6)\n"
          ],
          "name": "stdout"
        },
        {
          "output_type": "execute_result",
          "data": {
            "text/html": [
              "<div>\n",
              "<style scoped>\n",
              "    .dataframe tbody tr th:only-of-type {\n",
              "        vertical-align: middle;\n",
              "    }\n",
              "\n",
              "    .dataframe tbody tr th {\n",
              "        vertical-align: top;\n",
              "    }\n",
              "\n",
              "    .dataframe thead th {\n",
              "        text-align: right;\n",
              "    }\n",
              "</style>\n",
              "<table border=\"1\" class=\"dataframe\">\n",
              "  <thead>\n",
              "    <tr style=\"text-align: right;\">\n",
              "      <th></th>\n",
              "      <th>Unnamed: 0.1</th>\n",
              "      <th>_id</th>\n",
              "      <th>topic</th>\n",
              "      <th>content</th>\n",
              "      <th>processed_content</th>\n",
              "      <th>processed_topic</th>\n",
              "    </tr>\n",
              "  </thead>\n",
              "  <tbody>\n",
              "    <tr>\n",
              "      <th>0</th>\n",
              "      <td>0</td>\n",
              "      <td>5f04e496ef217aae6a201f71</td>\n",
              "      <td>[\"National\"]</td>\n",
              "      <td>[\"The West Bengal government on Tuesday decide...</td>\n",
              "      <td>west bengal govern tuesday decid impos complet...</td>\n",
              "      <td>nation</td>\n",
              "    </tr>\n",
              "    <tr>\n",
              "      <th>1</th>\n",
              "      <td>1</td>\n",
              "      <td>5f04e498ef217aae6a201f72</td>\n",
              "      <td>[\"Business\"]</td>\n",
              "      <td>[\"The government is weighing the pros and cons...</td>\n",
              "      <td>govern weigh pros con halt import includ china...</td>\n",
              "      <td>busi</td>\n",
              "    </tr>\n",
              "    <tr>\n",
              "      <th>2</th>\n",
              "      <td>2</td>\n",
              "      <td>5f04e49aef217aae6a201f73</td>\n",
              "      <td>[\"National\"]</td>\n",
              "      <td>[\"The Central Board of Secondary Education (CB...</td>\n",
              "      <td>central board secondari educ cbse slash syllab...</td>\n",
              "      <td>nation</td>\n",
              "    </tr>\n",
              "    <tr>\n",
              "      <th>3</th>\n",
              "      <td>3</td>\n",
              "      <td>5f04e49def217aae6a201f74</td>\n",
              "      <td>[\"International\"]</td>\n",
              "      <td>[\"The World Health Organization on Tuesday ack...</td>\n",
              "      <td>world health organ tuesday acknowledg emerg ev...</td>\n",
              "      <td>intern</td>\n",
              "    </tr>\n",
              "    <tr>\n",
              "      <th>4</th>\n",
              "      <td>4</td>\n",
              "      <td>5f04e49fef217aae6a201f75</td>\n",
              "      <td>[\"International\"]</td>\n",
              "      <td>[\"President Donald Trump on Tuesday formally s...</td>\n",
              "      <td>presid donald trump tuesday formal start withd...</td>\n",
              "      <td>intern</td>\n",
              "    </tr>\n",
              "  </tbody>\n",
              "</table>\n",
              "</div>"
            ],
            "text/plain": [
              "   Unnamed: 0.1  ... processed_topic\n",
              "0             0  ...          nation\n",
              "1             1  ...            busi\n",
              "2             2  ...          nation\n",
              "3             3  ...          intern\n",
              "4             4  ...          intern\n",
              "\n",
              "[5 rows x 6 columns]"
            ]
          },
          "metadata": {
            "tags": []
          },
          "execution_count": 1
        }
      ]
    },
    {
      "cell_type": "code",
      "metadata": {
        "id": "dI7EzGvCSaxB",
        "colab_type": "code",
        "colab": {
          "base_uri": "https://localhost:8080/",
          "height": 34
        },
        "outputId": "2e733e56-d818-452e-b5f9-578c8abecb3b"
      },
      "source": [
        "datax.shape"
      ],
      "execution_count": 2,
      "outputs": [
        {
          "output_type": "execute_result",
          "data": {
            "text/plain": [
              "(100, 6)"
            ]
          },
          "metadata": {
            "tags": []
          },
          "execution_count": 2
        }
      ]
    },
    {
      "cell_type": "code",
      "metadata": {
        "id": "ld3I8xyxftr_",
        "colab_type": "code",
        "colab": {}
      },
      "source": [
        "#Creating Preprocessing Function and Applying it on Our Data \n",
        "from nltk.tokenize import RegexpTokenizer\n",
        "from nltk.corpus import stopwords\n",
        "import nltk\n",
        "from nltk.corpus import wordnet\n",
        "from nltk.stem import WordNetLemmatizer\n",
        "#nltk.download('wordnet')\n",
        "#nltk.download('stopwords')\n",
        "\n",
        "wordnet_lemmatizer = WordNetLemmatizer()\n",
        "tokenizer = RegexpTokenizer(r'[a-z]+')\n",
        "stop_words = set(stopwords.words('english'))\n",
        "\n",
        "def preprocess(document):\n",
        "    document = document.lower() # Convert to lowercase\n",
        "    words = tokenizer.tokenize(document) # Tokenize\n",
        "    words = [w for w in words if not w in stop_words] # Removing stopwords\n",
        "    # Lemmatizing\n",
        "    for pos in [wordnet.NOUN, wordnet.VERB, wordnet.ADJ, wordnet.ADV]:\n",
        "        words = [wordnet_lemmatizer.lemmatize(x, pos) for x in words]\n",
        "    return \" \".join(words)"
      ],
      "execution_count": 3,
      "outputs": []
    },
    {
      "cell_type": "code",
      "metadata": {
        "id": "CMci9qMWftpF",
        "colab_type": "code",
        "colab": {
          "base_uri": "https://localhost:8080/",
          "height": 397
        },
        "outputId": "3ad7dd99-d198-4fe5-c773-2c95b152b547"
      },
      "source": [
        "datax['Processed Review'] = datax['content'].apply(preprocess)\n",
        "\n",
        "datax.head()\n"
      ],
      "execution_count": 4,
      "outputs": [
        {
          "output_type": "stream",
          "text": [
            "/usr/local/lib/python3.6/dist-packages/ipykernel_launcher.py:1: SettingWithCopyWarning: \n",
            "A value is trying to be set on a copy of a slice from a DataFrame.\n",
            "Try using .loc[row_indexer,col_indexer] = value instead\n",
            "\n",
            "See the caveats in the documentation: https://pandas.pydata.org/pandas-docs/stable/user_guide/indexing.html#returning-a-view-versus-a-copy\n",
            "  \"\"\"Entry point for launching an IPython kernel.\n"
          ],
          "name": "stderr"
        },
        {
          "output_type": "execute_result",
          "data": {
            "text/html": [
              "<div>\n",
              "<style scoped>\n",
              "    .dataframe tbody tr th:only-of-type {\n",
              "        vertical-align: middle;\n",
              "    }\n",
              "\n",
              "    .dataframe tbody tr th {\n",
              "        vertical-align: top;\n",
              "    }\n",
              "\n",
              "    .dataframe thead th {\n",
              "        text-align: right;\n",
              "    }\n",
              "</style>\n",
              "<table border=\"1\" class=\"dataframe\">\n",
              "  <thead>\n",
              "    <tr style=\"text-align: right;\">\n",
              "      <th></th>\n",
              "      <th>Unnamed: 0.1</th>\n",
              "      <th>_id</th>\n",
              "      <th>topic</th>\n",
              "      <th>content</th>\n",
              "      <th>processed_content</th>\n",
              "      <th>processed_topic</th>\n",
              "      <th>Processed Review</th>\n",
              "    </tr>\n",
              "  </thead>\n",
              "  <tbody>\n",
              "    <tr>\n",
              "      <th>0</th>\n",
              "      <td>0</td>\n",
              "      <td>5f04e496ef217aae6a201f71</td>\n",
              "      <td>[\"National\"]</td>\n",
              "      <td>[\"The West Bengal government on Tuesday decide...</td>\n",
              "      <td>west bengal govern tuesday decid impos complet...</td>\n",
              "      <td>nation</td>\n",
              "      <td>west bengal government tuesday decide impose c...</td>\n",
              "    </tr>\n",
              "    <tr>\n",
              "      <th>1</th>\n",
              "      <td>1</td>\n",
              "      <td>5f04e498ef217aae6a201f72</td>\n",
              "      <td>[\"Business\"]</td>\n",
              "      <td>[\"The government is weighing the pros and cons...</td>\n",
              "      <td>govern weigh pros con halt import includ china...</td>\n",
              "      <td>busi</td>\n",
              "      <td>government weigh pro con halt import include c...</td>\n",
              "    </tr>\n",
              "    <tr>\n",
              "      <th>2</th>\n",
              "      <td>2</td>\n",
              "      <td>5f04e49aef217aae6a201f73</td>\n",
              "      <td>[\"National\"]</td>\n",
              "      <td>[\"The Central Board of Secondary Education (CB...</td>\n",
              "      <td>central board secondari educ cbse slash syllab...</td>\n",
              "      <td>nation</td>\n",
              "      <td>central board secondary education cbse slash s...</td>\n",
              "    </tr>\n",
              "    <tr>\n",
              "      <th>3</th>\n",
              "      <td>3</td>\n",
              "      <td>5f04e49def217aae6a201f74</td>\n",
              "      <td>[\"International\"]</td>\n",
              "      <td>[\"The World Health Organization on Tuesday ack...</td>\n",
              "      <td>world health organ tuesday acknowledg emerg ev...</td>\n",
              "      <td>intern</td>\n",
              "      <td>world health organization tuesday acknowledge ...</td>\n",
              "    </tr>\n",
              "    <tr>\n",
              "      <th>4</th>\n",
              "      <td>4</td>\n",
              "      <td>5f04e49fef217aae6a201f75</td>\n",
              "      <td>[\"International\"]</td>\n",
              "      <td>[\"President Donald Trump on Tuesday formally s...</td>\n",
              "      <td>presid donald trump tuesday formal start withd...</td>\n",
              "      <td>intern</td>\n",
              "      <td>president donald trump tuesday formally start ...</td>\n",
              "    </tr>\n",
              "  </tbody>\n",
              "</table>\n",
              "</div>"
            ],
            "text/plain": [
              "   Unnamed: 0.1  ...                                   Processed Review\n",
              "0             0  ...  west bengal government tuesday decide impose c...\n",
              "1             1  ...  government weigh pro con halt import include c...\n",
              "2             2  ...  central board secondary education cbse slash s...\n",
              "3             3  ...  world health organization tuesday acknowledge ...\n",
              "4             4  ...  president donald trump tuesday formally start ...\n",
              "\n",
              "[5 rows x 7 columns]"
            ]
          },
          "metadata": {
            "tags": []
          },
          "execution_count": 4
        }
      ]
    },
    {
      "cell_type": "code",
      "metadata": {
        "id": "REIUC3iNf2oY",
        "colab_type": "code",
        "colab": {
          "base_uri": "https://localhost:8080/",
          "height": 50
        },
        "outputId": "240d8520-32e2-4a5c-83d2-e0b0e8b1c626"
      },
      "source": [
        "#Creating TF-IDF Matrix \n",
        "from sklearn.feature_extraction.text import TfidfVectorizer\n",
        "\n",
        "vectorizer = TfidfVectorizer()\n",
        "TF_IDF_matrix = vectorizer.fit_transform(datax['Processed Review'])\n",
        "TF_IDF_matrix = TF_IDF_matrix.T\n",
        "\n",
        "print('Vocabulary Size : ', len(vectorizer.get_feature_names()))\n",
        "print('Shape of Matrix : ', TF_IDF_matrix.shape)"
      ],
      "execution_count": 5,
      "outputs": [
        {
          "output_type": "stream",
          "text": [
            "Vocabulary Size :  5191\n",
            "Shape of Matrix :  (5191, 100)\n"
          ],
          "name": "stdout"
        }
      ]
    },
    {
      "cell_type": "code",
      "metadata": {
        "id": "f0A1i24Rf9wO",
        "colab_type": "code",
        "colab": {}
      },
      "source": [
        ""
      ],
      "execution_count": null,
      "outputs": []
    },
    {
      "cell_type": "markdown",
      "metadata": {
        "id": "hsJyrwR3gDm7",
        "colab_type": "text"
      },
      "source": [
        "Apply SVD to TF-IDF Matrix \n",
        "\n",
        "2.1 Create Term and Document Representation "
      ]
    },
    {
      "cell_type": "code",
      "metadata": {
        "id": "kb6kjdujf9zK",
        "colab_type": "code",
        "colab": {}
      },
      "source": [
        "import numpy as np\n",
        "K = 100\n",
        "\n",
        "# Applying SVD\n",
        "U, s, VT = np.linalg.svd(TF_IDF_matrix.toarray()) # .T is used to take transpose and .toarray() is used to convert sparse matrix to normal matrix\n",
        "\n",
        "TF_IDF_matrix_reduced = np.dot(U[:,:K], np.dot(np.diag(s[:K]), VT[:K, :]))\n",
        "\n",
        "# Getting document and term representation\n",
        "terms_rep = np.dot(U[:,:K], np.diag(s[:K])) # M X K matrix where M = Vocabulary Size and N = Number of documents\n",
        "docs_rep = np.dot(np.diag(s[:K]), VT[:K, :]).T # N x K matrix "
      ],
      "execution_count": 6,
      "outputs": []
    },
    {
      "cell_type": "code",
      "metadata": {
        "id": "e6UWeN1Df9t9",
        "colab_type": "code",
        "colab": {
          "base_uri": "https://localhost:8080/",
          "height": 281
        },
        "outputId": "e485c2c3-e3c5-4d05-ce3e-1c79f23a218d"
      },
      "source": [
        "import matplotlib.pyplot as plt\n",
        "%matplotlib inline\n",
        "\n",
        "plt.scatter(docs_rep[:,0], docs_rep[:,1], c=datax['Unnamed: 0.1'])\n",
        "plt.title(\"Document Representation\")\n",
        "plt.show()"
      ],
      "execution_count": 7,
      "outputs": [
        {
          "output_type": "display_data",
          "data": {
            "image/png": "[encoded data removed]",
            "text/plain": [
              "<Figure size 432x288 with 1 Axes>"
            ]
          },
          "metadata": {
            "tags": [],
            "needs_background": "light"
          }
        }
      ]
    },
    {
      "cell_type": "code",
      "metadata": {
        "id": "wXWoC2FagUQF",
        "colab_type": "code",
        "colab": {}
      },
      "source": [
        ""
      ],
      "execution_count": null,
      "outputs": []
    },
    {
      "cell_type": "code",
      "metadata": {
        "id": "bKJabNhFgUTy",
        "colab_type": "code",
        "colab": {
          "base_uri": "https://localhost:8080/",
          "height": 281
        },
        "outputId": "0131292e-0a14-404c-d196-bf9d052cb91a"
      },
      "source": [
        "plt.scatter(terms_rep[:,0], terms_rep[:,1])\n",
        "plt.title(\"Term Representation\")\n",
        "plt.show()"
      ],
      "execution_count": 8,
      "outputs": [
        {
          "output_type": "display_data",
          "data": {
            "image/png": "[encoded data removed]",
            "text/plain": [
              "<Figure size 432x288 with 1 Axes>"
            ]
          },
          "metadata": {
            "tags": [],
            "needs_background": "light"
          }
        }
      ]
    },
    {
      "cell_type": "markdown",
      "metadata": {
        "id": "tKAZvhwPgZ5D",
        "colab_type": "text"
      },
      "source": [
        "Information Retreival Using LSA"
      ]
    },
    {
      "cell_type": "code",
      "metadata": {
        "id": "ag7ftrSNTaSZ",
        "colab_type": "code",
        "colab": {}
      },
      "source": [
        "query = \"virus\""
      ],
      "execution_count": 10,
      "outputs": []
    },
    {
      "cell_type": "code",
      "metadata": {
        "id": "KE53ol84gUOT",
        "colab_type": "code",
        "colab": {
          "base_uri": "https://localhost:8080/",
          "height": 121
        },
        "outputId": "207c6756-c0d5-408b-8ca9-930223ef3b4f"
      },
      "source": [
        "# This is a function to generate query_rep\n",
        "\n",
        "def lsa_query_rep(query):\n",
        "    query_rep = [vectorizer.vocabulary_[x] for x in preprocess(query).split()]\n",
        "    query_rep = np.mean(terms_rep[query_rep],axis=0)\n",
        "    return query_rep\n",
        "from scipy.spatial.distance import cosine\n",
        "\n",
        "query_rep = lsa_query_rep(query)\n",
        "\n",
        "query_doc_cos_dist = [cosine(query_rep, doc_rep) for doc_rep in docs_rep]\n",
        "query_doc_sort_index = np.argsort(np.array(query_doc_cos_dist))\n",
        "\n",
        "print_count = 0\n",
        "for rank, sort_index in enumerate(query_doc_sort_index):\n",
        "    print ('Rank : ', rank, ' Consine : ', 1 - query_doc_cos_dist[sort_index],' Review : ', datax['content'][sort_index])\n",
        "    if print_count == 4 :\n",
        "        break\n",
        "    else:\n",
        "        print_count += 1"
      ],
      "execution_count": 11,
      "outputs": [
        {
          "output_type": "stream",
          "text": [
            "Rank :  0  Consine :  0.588622940049677  Review :  [\"Imagine getting tested for the Covid-19 virus, without having to get your throat swabbed, at just Rs 150-250. All it takes is an x-ray of the chest.\",\"It is possible with Cov-Astra, a low-cost AI-based device developed by AIndra Systems founder Adarsh Natarajan, which can replace the conventional Covid-19 testing that could cost over Rs 4,000.\",\"This is one of the six innovations the state government unveiled on Tuesday that promise to make life better during the Covid-19 pandemic. These products have been developed by startups incubated and mentored at the Bengaluru Bioinnovation Centre (BBC), an initiative of the state government.\",\"Follow latest updates on the Covid-19 pandemic here\",\"Another innovation is the Shieldex 24, a microwave-like device developed by bioinformatics startup Biofi’s Ravikumar Rajendraprasad that can eliminate viruses located on objects such as a wallet, mobile phone, pen and so on within 15 seconds with ultraviolet rays. This can be used at offices or homes and even airports or railway stations where luggages can be screened to neutralize viruses.\",\"Then, there is DeConto, a low-cost product that helps transport a live virus. Such viral transport media are currently imported and are known to be expensive. The DeConto was developed by researchers Manjunath and Dinesh from Denovo Biolabs incubated at the Institute of Bioinformatics and Applied Biotechnology (IBAB).\",\"On the testing front, VNIR cofounders T Govindaraju and Meher Praskash have developed fluorescence probes, which are currently important from various nations, including China. These probes are used in the RT-PCR test kits and their development promises to be a boon for Indian companies working on Covid test kits.\",\"To make things easy for pregnant women, Arun Agarwal of Janitri has developed Daksh, a foetal monitoring device. With this, a doctor can remotely monitor the foetus. The woman needs to keep the device on her stomach, which will let the doctor know the heartbeat of the foetus.\",\"Lastly, a team led by Latha Damle from Atrimed has come up with a face wash containing herbal antimicrobials. This herbal product claims to kill viruses, including Covid-19, from a person’s face within seconds.\",\"“All the six products have been approved by the Indian Council for Medical Research (ICMR) for immediate use. The products will also be commercially available with immediate effect. The government will support and promote these products,” Deputy Chief Minister CN Ashwath Narayan, the IT/BT minister, said, adding that it was a matter of pride for Karnataka as the role of Kannadigas was significant in developing these products.\"]\n",
            "Rank :  1  Consine :  0.5879773543209923  Review :  [\"Brazil's President Jair Bolsonaro says he has tested positive for Covid-19 after months of downplaying the virus' severity.\",\"Bolsonaro confirmed the test results while wearing a mask and speaking to reporters in capital Brasilia.\",\"\\\"I'm well, normal. I even want to take a walk around here, but I can't due to medical recommendations,” Bolsonaro said.\",\"Follow: \",\"Coronavirus Worldometer | 15 countries with the highest number of cases, deaths due to the Covid-19 pandemic\",\"The president has often appeared in public to shake hands with supporters and mingle with crowds, at times without a mask. He has said that his history as an athlete would protect him from the virus, and that it would be nothing more than a “little flu” were he to contract it.\",\"He has also repeatedly said that there is no way to prevent 70% of the population falling ill with Covid-19, and that local authorities' measures to shut down economic activity would ultimately cause more hardship than allowing the virus to run its course.\",\"Cities and states last month began lifting restrictions that had been imposed to control the spread of the virus, as their statistical curves of deaths began to decline along with the occupation rate of its intensive-care units. Brazil, the world's sixth most populous nation, with more than 210 million people, is one of the global hot spots of the pandemic.\",\"CORONAVIRUS SPECIAL COVERAGE ONLY ON DH\",\"On Monday, Bolsonaro told supporters in Brasilia that he underwent an X-ray of his lungs that showed they were clean, and that he would be tested for Covid-19. On Tuesday, he told CNN Brasil that his fever had subsided.\",\"Over the weekend, the Brazilian leader celebrated the US Independence Day with the nation's ambassador to Brazil, then shared pictures on social media showing him with his arm around the ambassador alongside several ministers and aides. None wore masks, despite being in close quarters.\",\"The US Embassy said on Twitter on Monday that Ambassador Todd Chapman is not showing any Covid-19 symptoms but would be tested.\",\"Bolsonaro tested negative three times in March after meeting with the US President Donald Trump in Florida. Multiple members of his delegation to the US were later reported to be infected with the virus.\",\"More than 65,000 Brazilians have so far died from Covid-19 and more than 1,500,000 have been infected. Both numbers are the world's second-highest totals, and are considered to be undercounts to the lack of widespread testing. \",\" \"]\n",
            "Rank :  2  Consine :  0.5759050142351337  Review :  [\"The WHO pointed Tuesday to \\\"emerging evidence\\\" that the coronavirus might spread by air further than previously thought, and warned the pandemic was still accelerating.\",\"The World Health Organization said it would put out a new scientific brief within days, after an international group of scientists concluded the virus could travel far beyond two metres (yards).\",\"Follow latest updates on the Covid-19 pandemic here\",\"The two-metre physical distancing guideline has been a major element in the fight against Covid-19, which has killed more than 538,000 people and infected over 11.6 million since it emerged in China last December.\",\"Meanwhile, WHO director-general Tedros Adhanom Ghebreyesus said the pandemic was showing no signs of slowing down, after 400,000 new cases were reported over the weekend.\",\"It took 12 weeks for the world to reach the first 400,000 Covid-19 cases.\",\"\\\"The outbreak is accelerating and we've clearly not reached the peak of the pandemic,\\\" Tedros said.\",\"\\\"While the number of deaths appears to have levelled off globally, in reality some countries have made significant progress in reducing the number of deaths, while in other countries deaths are still on the rise.\\\"\",\"The virus has \\\"taken the world hostage\\\", he concluded.\",\"On Monday, a group of 239 international scientists said exhaled droplets under five micrometres in size that contain the virus can become suspended in the air for several hours and travel up to tens of metres.\",\"Benedetta Allegranzi, the WHO's technical lead on infection control, told a virtual press conference: \\\"We acknowledge that there is emerging evidence in this field.\",\"\\\"We believe that we have to be open to this evidence and understand its implications regarding the modes of transmission and also regarding the precautions that need to be taken,\\\" she said.\",\"Maria Van Kerkhove, the WHO's Covid-19 technical lead, said the UN health agency was producing a scientific notice consolidating growing knowledge around transmission.\",\"\\\"We will be issuing our brief in the coming days, and that will outline everything that we have in this area,\\\" she said.\",\"Brazil's President Jair Bolsonaro -- who repeatedly flouted virus containment measures and minimised the risk -- said Tuesday he had tested positive for Covid-19.\",\"The WHO sent him their best wishes for a speedy and full recovery.\",\"\\\"It brings home for us all the reality of this virus: no-one is special,\\\" said the WHO's emergencies director Michael Ryan.\",\"\\\"Whether we're prince or pauper, we're equally vulnerable.\\\"\",\"Meanwhile, the WHO is sending an animal health expert and an epidemiologist to China this weekend to lay the groundwork for an investigation into the animal origins of the new coronavirus.\",\"Tedros said they would develop the scope and terms of reference for a WHO-led international mission, that would pick up from the work already undertaken in China.\",\"Ryan said finding the source of any disease outbreak was always \\\"quite a detective story\\\".\"]\n",
            "Rank :  3  Consine :  0.5686874060888677  Review :  [\"The Karnataka government supported start-ups in the state have produced six products locally to tackle coronavirus, which are now being imported, Deputy Chief Minister C N Ashwath Narayan said on Tuesday.\",\"Speaking at the official launch of these products, Ashwath Narayan, who holds the portfolio of IT-BT, Science and Technology and Higher Education, said it was a matter of pride for the state as the role of Kannadigas was significant in developing the products.\",\"\\\"These products will reduce our burden of importing expensive equipment and tools in fighting this pandemic.\",\"We must take pride in the fact that we have reached this level of innovating and producing locally,\\\" said the Deputy Chief Minister.\",\"For latest updates and live news on coronavirus, click here\",\"All the 6 products have been approved by the Indian Council of Medical Research (ICMR) for immediate use.\",\"The products will also be commercially available with immediate effect;\",\"The Shieldex 24, Fluorescent probes and polymerase chain reaction (PCR) mix for Reverse Transcription-Polymerase Chain Reaction (RTPCR) detection, Remote foetal monitoring device called Daksh, Viral Transport Medium, Cov-Astra an AI- based device for detection of Covid-19 through an X-Ray and anti-microbial face wash containing herbal antimicrobials.\",\"According to the Department of IT-BT and Science and Technology, Shieldex 24, developed by Ravi Kumar from Biofi, can eliminate viruses located on any object.\",\"Florescence Probes by Dr Govindarajan and Dr Meher Prakash from VNIR, are part of the Covid-19 test kits.\",\"Daksh, developed by Dr Arun Agrawal from Janitri, is useful for Covid-19 positive pregnant women as it helps remote monitoring of the foetus.\",\"Viral Transport Medium, developed by Manjunatha and Dinesh from Deno Bio labs at IBAB, helps in safely transporting the live virus sample from the sample collection centre to the testing lab.\",\"Cov-Astra, an AI-based device for detection of coronavirus, is developed by Adarsh Nararajan from Aindra. It is considered as a significant breakthrough that can detect Covid-19 virus through an x-ray and eliminates the conventional throat swab way of testing people.\",\"Per detection cost is significantly lesser at Rs 150 to Rs 250 per person.\",\"Anti-microbial face wash containing herbal antimicrobials, developed by Dr Latha Damle and team from Atrimed, can kill any virus, including Covid-19 virus, from any person's face within seconds, the department said.\"]\n",
            "Rank :  4  Consine :  0.37821395363507004  Review :  [\"The World Health Organization on Tuesday acknowledged \\\"emerging evidence\\\" of the airborne spread of the novel coronavirus, after a group of scientists urged the global body to update its guidance on how the respiratory disease is spread.\",\"Speaking at a briefing in Geneva, WHO expert Benedetta Allegranzi said the organization believed it had \\\"been open to the evidence on modes of transmission\\\" of the new virus. \"]\n"
          ],
          "name": "stdout"
        }
      ]
    },
    {
      "cell_type": "code",
      "metadata": {
        "id": "SqfZo4hUgeVY",
        "colab_type": "code",
        "colab": {}
      },
      "source": [
        ""
      ],
      "execution_count": null,
      "outputs": []
    }
  ]
}